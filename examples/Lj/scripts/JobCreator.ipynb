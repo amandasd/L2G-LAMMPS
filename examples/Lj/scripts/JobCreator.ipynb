{
 "cells": [
  {
   "cell_type": "code",
   "execution_count": 1,
   "id": "6d4b48ea-ada3-4ca3-afa3-974a1cd51dbc",
   "metadata": {},
   "outputs": [],
   "source": [
    "import os \n",
    "from glob import glob\n",
    "import sys\n",
    "\n",
    "npop = sys.argv[1]\n",
    "opt = sys.argv[2]\n",
    "\n",
    "#---------the filename is slurm_lammps_parallel -------------"
   ]
  },
  {
   "cell_type": "code",
   "execution_count": 10,
   "id": "772a23fa-364d-4bae-b17b-1ef6abe2357c",
   "metadata": {},
   "outputs": [],
   "source": [
    "#---- job script generator----------\n",
    "\n",
    "def job_script(outfile,npop,opt):\n",
    "    \n",
    "    \n",
    "    with open(outfile,\"a\") as outfile:\n",
    "        outfile.write(\"#!/bin/bash\\n\")\n",
    "        outfile.write(\"#SBATCH -A m3793\\n\")\n",
    "        outfile.write(\"#SBATCH -N {}\\n\".format(npop))\n",
    "        outfile.write(\"#SBATCH -C debug\\n\")\n",
    "        outfile.write(\"#SBATCH -q debug\\n\")\n",
    "        outfile.write(\"#SBATCH -J l2g_lammps\\n\")\n",
    "        outfile.write(\"#SBATCH -t 00:10:00\\n\")\n",
    "        \n",
    "        outfile.write(\"\\n\\n\")\n",
    "        \n",
    "        outfile.write(\"HOME=\\\"$(pwd)\\\"\\n\")\n",
    "        outfile.write(\"OUTPUT_DIR=\\\"$HOME/output\\\"\\n\")\n",
    "        outfile.write(\"mkdir -p \\\"$OUTPUT_DIR\\\"\\n\")\n",
    "        outfile.write(\"\\n\\n\")\n",
    "        outfile.write(\"module load lammps\\n\")\n",
    "        outfile.write(\"\\n\\n\")\n",
    "        \n",
    "\n",
    "        outfile.write(\"export OMP_NUM_THREADS=1\\n\")\n",
    "        outfile.write(\"export OMP_PLACES=threads\\n\")\n",
    "        outfile.write(\"export OMP_PROC_BIND=spread\\n\")\n",
    "        outfile.write(\"\\n\\n\")\n",
    "        \n",
    "        \n",
    "        for i in range(npop):\n",
    "            if opt==1:\n",
    "                outfile.write(\"srun -N 1 -n 64 -c 1 --cpu-bind=cores lmp_cori  -in $HOME/input/in.lennard-jones-best> $OUTPUT_DIR/input/in.lennard-jones-best &\\n\".format(os.getcwd()))\n",
    "                outfile.write(\"\\n\")\n",
    "            else: \n",
    "                outfile.write(\"srun -N 1 -n 64 -c 1 --cpu-bind=cores lmp_cori  -in $HOME/input/in.lennard-jones-best> $OUTPUT_DIR/input/input/in.lennard-jones-{}&\\n\".format(os.getcwd(),i))\n",
    "                outfile.write(\"\\n\")\n",
    "                \n",
    "        outfile.write(\"wait\\n\")\n",
    "        \n",
    "        outfile.write(\"flag\")\n",
    "        \n",
    "        "
   ]
  },
  {
   "cell_type": "code",
   "execution_count": 11,
   "id": "44a1bb44-ea2d-45ee-8196-0f7e5ae99737",
   "metadata": {},
   "outputs": [],
   "source": [
    "job_script(\"slurm_lammps_parallel\",30,1)"
   ]
  },
  {
   "cell_type": "code",
   "execution_count": null,
   "id": "0e6b251c-8f1b-422b-80fd-fd281ee51f7e",
   "metadata": {},
   "outputs": [],
   "source": []
  },
  {
   "cell_type": "code",
   "execution_count": null,
   "id": "dc05c4f8-0842-4d21-817c-22917993b498",
   "metadata": {},
   "outputs": [],
   "source": []
  }
 ],
 "metadata": {
  "kernelspec": {
   "display_name": "base",
   "language": "python",
   "name": "python3"
  },
  "language_info": {
   "codemirror_mode": {
    "name": "ipython",
    "version": 3
   },
   "file_extension": ".py",
   "mimetype": "text/x-python",
   "name": "python",
   "nbconvert_exporter": "python",
   "pygments_lexer": "ipython3",
   "version": "3.8.5"
  }
 },
 "nbformat": 4,
 "nbformat_minor": 5
}
